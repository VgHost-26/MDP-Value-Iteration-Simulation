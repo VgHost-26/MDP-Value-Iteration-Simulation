{
 "cells": [
  {
   "cell_type": "code",
   "execution_count": 1,
   "metadata": {},
   "outputs": [],
   "source": [
    "import numpy as np\n",
    "import matplotlib.pyplot as plt\n",
    "import seaborn as sns\n",
    "\n",
    "rewards: tuple[float, ...] = (-0.1, -0.1, -0.1, -0.1,\n",
    "                              -0.1, -1.0, -0.1, -1.0,\n",
    "                              -0.1, -0.1, -0.1, -1.0,\n",
    "                              -1.0, -0.1, -0.1, 1.0)\n",
    "\n",
    "transition_matrix: tuple[tuple[tuple[tuple[float, int]]]] = \\\n",
    "    ((((.9, 0), (.1, 4)), ((.1, 0), (.8, 4), (.1, 1)),\n",
    "      ((.1, 4), (.8, 1), (.1, 0)), ((.1, 1), (.9, 0))),\n",
    "     (((.1, 1), (.8, 0), (.1, 5)), ((.1, 0), (.8, 5), (.1, 2)),\n",
    "      ((.1, 5), (.8, 2), (.1, 1)), ((.1, 2), (.8, 1), (.1, 0))),\n",
    "     (((.1, 2), (.8, 1), (.1, 6)), ((.1, 1), (.8, 6), (.1, 3)),\n",
    "      ((.1, 6), (.8, 3), (.1, 2)), ((.1, 3), (.8, 2), (.1, 1))),\n",
    "     (((.1, 3), (.8, 2), (.1, 7)), ((.1, 2), (.8, 7), (.1, 3)),\n",
    "      ((.1, 7), (.9, 3)), ((.9, 3), (.1, 2))),\n",
    "     (((.1, 0), (.8, 4), (.1, 8)), ((.1, 4), (.8, 8), (.1, 5)),\n",
    "      ((.1, 8), (.8, 5), (.1, 0)), ((.1, 5), (.8, 0), (.1, 4))),\n",
    "     (((1.0, 5),), ((1.0, 5),), ((1.0, 5),), ((1.0, 5),)),\n",
    "     (((.1, 2), (.8, 5), (.1, 10)), ((.1, 5), (.8, 10), (.1, 7)),\n",
    "      ((.1, 10), (.8, 7), (.1, 2)), ((.1, 7), (.8, 2), (.1, 5))),\n",
    "     (((1.0, 7),), ((1.0, 7),), ((1.0, 7),), ((1.0, 7),)),\n",
    "     (((.1, 4), (.8, 8), (.1, 12)), ((.1, 8), (.8, 12), (.1, 9)),\n",
    "      ((.1, 12), (.8, 9), (.1, 4)), ((.1, 9), (.8, 4), (.1, 8))),\n",
    "     (((.1, 5), (.8, 8), (.1, 13)), ((.1, 8), (.8, 13), (.1, 10)),\n",
    "      ((.1, 13), (.8, 10), (.1, 5)), ((.1, 10), (.8, 5), (.1, 8))),\n",
    "     (((.1, 6), (.8, 9), (.1, 14)), ((.1, 9), (.8, 14), (.1, 11)),\n",
    "      ((.1, 14), (.8, 11), (.1, 6)), ((.1, 11), (.8, 6), (.1, 9))),\n",
    "     (((1.0, 11),), ((1.0, 11),), ((1.0, 11),), ((1.0, 11),)),\n",
    "     (((1.0, 12),), ((1.0, 12),), ((1.0, 12),), ((1.0, 12),)),\n",
    "     (((.1, 9), (.8, 12), (.1, 13)), ((.1, 12), (.8, 13), (.1, 14)),\n",
    "      ((.1, 13), (.8, 14), (.1, 9)), ((.1, 14), (.8, 9), (.1, 12))),\n",
    "     (((.1, 10), (.8, 13), (.1, 14)), ((.1, 13), (.8, 14), (.1, 15)),\n",
    "      ((.1, 14), (.8, 15), (.1, 10)), ((.1, 15), (.8, 10), (.1, 13))),\n",
    "     (((1.0, 15),), ((1.0, 15),), ((1.0, 15),), ((1.0, 15),)))\n",
    "\n",
    "\n",
    "def valid_state(state: int) -> bool:\n",
    "    return isinstance(state, (int, np.signedinteger)) and 0 <= state < 16\n",
    "\n",
    "\n",
    "def valid_action(action: int) -> bool:\n",
    "    return isinstance(action, (int, np.signedinteger)) and 0 <= action < 4\n",
    "\n",
    "\n",
    "N_STATES: int = 16\n",
    "N_ACTIONS: int = 4\n",
    "EPSILON: float = 1e-8\n",
    "GAMMA: float = 0.9\n",
    "DETERMINISTIC: bool = False\n",
    "\n",
    "HOME: int = 0 \n",
    "SCHOOL: int = 15\n",
    "\n",
    "def get_next_states(state: int, action: int) -> list[int]:\n",
    "    \"\"\"\n",
    "    Fetches the possible next states given the state and action pair.\n",
    "    :param state: a number between 0 - 15.\n",
    "    :param action: an integer between 0 - 3.\n",
    "    :return: A list of possible next states. Each next state is a number between 0 - 15.\n",
    "    \"\"\"\n",
    "    assert valid_state(state), \\\n",
    "        f\"State {state} must be an integer between 0 - 15.\"\n",
    "    assert valid_action(action), \\\n",
    "        f\"Action {action} must be an integer between 0 - 3.\"\n",
    "    next_state_probs = {next_state: trans_prob for trans_prob,\n",
    "                        next_state in transition_matrix[state][action]}\n",
    "    if DETERMINISTIC:\n",
    "        return [max(next_state_probs, key=next_state_probs.get)]\n",
    "    return next_state_probs.keys()\n",
    "\n",
    "\n",
    "def get_trans_prob(state: int, action: int, next_state: int) -> float:\n",
    "    \"\"\"\n",
    "    Fetches the transition probability for the next state\n",
    "    given the state and action pair.\n",
    "    :param state: an integer between 0 - 15.\n",
    "    :param action: an integer between 0 - 3.\n",
    "    :param outcome_state: an integer between 0 - 15.\n",
    "    :return: the transition probability.\n",
    "    \"\"\"\n",
    "    assert valid_state(state), \\\n",
    "        f\"State {state} must be an integer between 0 - 15.\"\n",
    "    assert valid_action(action), \\\n",
    "        f\"Action {action} must be an integer between 0 - 3.\"\n",
    "    assert valid_state(next_state), \\\n",
    "        f\"Next state {next_state} must be an integer between 0 - 15.\"\n",
    "    next_state_probs = {next_state: trans_prob for trans_prob,\n",
    "                        next_state in transition_matrix[state][action]}\n",
    "    # If the provided next_state is invalid.\n",
    "    if next_state not in next_state_probs.keys():\n",
    "        return 0.\n",
    "    if DETERMINISTIC:\n",
    "        return float(next_state == max(next_state_probs, key=next_state_probs.get))\n",
    "    return next_state_probs[next_state]\n",
    "\n",
    "\n",
    "def get_reward(state: int) -> float:\n",
    "    \"\"\"\n",
    "    Fetches the reward given the state. This reward function depends only on the current state.\n",
    "    In general, the reward function can also depend on the action and the next state.\n",
    "    :param state: an integer between 0 - 15.\n",
    "    :return: the reward.\n",
    "    \"\"\"\n",
    "    assert valid_state(state), \\\n",
    "        f\"State {state} must be an integer between 0 - 15.\"\n",
    "    return rewards[state]\n",
    "\n",
    "\n",
    "def get_action_as_str(action: int) -> str:\n",
    "    \"\"\"\n",
    "    Fetches the string representation of an action.\n",
    "    :param action: an integer between 0 - 3.\n",
    "    :return: the action as a string.\n",
    "    \"\"\"\n",
    "    assert valid_action(action), \\\n",
    "        f\"Action {action} must be an integer between 0 - 3.\"\n",
    "    return (\"left\", \"down\", \"right\", \"up\")[action]\n",
    "\n",
    "\n",
    "class mdp:\n",
    "    states = np.arange(N_STATES)\n",
    "    actions = np.arange(N_ACTIONS)\n",
    "    rewards = rewards\n",
    "    \n",
    "def Qvalue(mdp:mdp, s:int, u:list):\n",
    "    sum = np.zeros(N_ACTIONS) \n",
    "    for a in mdp.actions:\n",
    "        for sp in get_next_states(s, a):  \n",
    "            sum[a] += get_trans_prob(s, a, sp) * (get_reward(sp) + GAMMA * u[sp])\n",
    "    return max(sum), mdp.actions[np.where(sum == max(sum))[0][0]]\n",
    "    \n",
    "def valueIteration(mdp:mdp) -> float:\n",
    "    up = np.zeros(N_STATES)\n",
    "    \n",
    "    g=0.1\n",
    "    # print(f'g:{g}; E:{EPSILON*(1-GAMMA)/GAMMA}; warunek: {g <= EPSILON*(1-GAMMA)/GAMMA}')\n",
    "    while g > EPSILON*(1-GAMMA)/GAMMA:\n",
    "    # for _ in range(15):\n",
    "        u = up.copy()\n",
    "        g = 0\n",
    "        \n",
    "        for s in mdp.states:\n",
    "            up[s], _ = Qvalue(mdp, s, u)\n",
    "            if (gg := abs(up[s] - u[s])) > g:\n",
    "                g = gg\n",
    "    \n",
    "    return up\n",
    "    \n"
   ]
  },
  {
   "cell_type": "code",
   "execution_count": 2,
   "metadata": {},
   "outputs": [
    {
     "name": "stdout",
     "output_type": "stream",
     "text": [
      "[[ 1.37106563  0.63977694  1.73046261  0.29337703]\n",
      " [ 1.79179139 -9.99999999  2.42566494 -9.99999999]\n",
      " [ 3.77851412  6.53785125  6.25786797 -9.99999999]\n",
      " [-9.99999999  7.96469008  9.38814078  9.99999999]]\n"
     ]
    }
   ],
   "source": [
    "    \n",
    "if __name__ == '__main__':\n",
    "    m = mdp\n",
    "    u = valueIteration(m)\n",
    "    U = np.reshape(u,(4,4))\n",
    "    print(U)\n",
    "  \n",
    "    \n",
    "   \n"
   ]
  },
  {
   "cell_type": "code",
   "execution_count": 3,
   "metadata": {},
   "outputs": [
    {
     "data": {
      "image/png": "[encoded data removed]",
      "text/plain": [
       "<Figure size 640x480 with 2 Axes>"
      ]
     },
     "metadata": {},
     "output_type": "display_data"
    }
   ],
   "source": [
    "sns.heatmap(U,  cmap=sns.color_palette('mako', as_cmap=True), annot = True)\n",
    "\n",
    "plt.show()"
   ]
  },
  {
   "cell_type": "code",
   "execution_count": 6,
   "metadata": {},
   "outputs": [],
   "source": [
    "import random\n",
    "\n",
    "\n",
    "def define_greedy_path(mdp:mdp, u):\n",
    "    '''This function created the creedy path from each point based on the utility function u'''\n",
    "    \n",
    "    s = HOME\n",
    "    states = np.zeros(N_STATES)\n",
    "    actions = np.zeros(N_STATES)\n",
    "    path = {'states':states, 'actions':actions}\n",
    "    \n",
    "    path['states'][HOME] = 1\n",
    "    \n",
    "    for s in mdp.states:\n",
    "        # choosing the most greedy action in each step\n",
    "        max, a = Qvalue(mdp, s, u)\n",
    "        \n",
    "        # saving the actions\n",
    "        path['actions'][s] = a\n",
    "        path['states'][s] = 1\n",
    "        \n",
    "    \n",
    "    return path\n",
    "\n",
    "def go_to_school(mdp:mdp, u):\n",
    "    '''This function runs a simulation of going to school along the greedy path based on the utility functions,\n",
    "    but because of slippery ice the road might be different each time, it also includes the case where you would end up in a hole.\n",
    "    This is based on the probabilities of going in other direction than we want to'''\n",
    "    \n",
    "    \n",
    "    s = HOME\n",
    "    states = np.zeros(N_STATES)\n",
    "    actions = np.zeros(N_STATES)\n",
    "    path = {'states':states, 'actions':actions}\n",
    "    \n",
    "    path['states'][HOME] = 1\n",
    "    while s != SCHOOL:\n",
    "        if u[s] < 0:\n",
    "            print(\"You died!\")\n",
    "            path['states'][s] = 1\n",
    "            break\n",
    "        \n",
    "        # getting the best (most greedy) action in current state\n",
    "        max, a = Qvalue(mdp, s, u)\n",
    "        path['actions'][s] = a\n",
    "        \n",
    "        nextS = list(get_next_states(s, a))\n",
    "        w = []\n",
    "        for x in nextS:\n",
    "            w.append(get_trans_prob(s, a, x))\n",
    "        \n",
    "        # choosing random action based on the probabilities\n",
    "        s = random.choices(nextS, weights=w, k=1)[0]\n",
    "        path['states'][s] = 1\n",
    "        \n",
    "    return path\n",
    "       "
   ]
  },
  {
   "cell_type": "code",
   "execution_count": 7,
   "metadata": {},
   "outputs": [],
   "source": [
    "greedy_path = define_greedy_path(m, u)"
   ]
  },
  {
   "cell_type": "code",
   "execution_count": 8,
   "metadata": {},
   "outputs": [],
   "source": [
    "real_path = go_to_school(m, u)"
   ]
  },
  {
   "cell_type": "code",
   "execution_count": 9,
   "metadata": {},
   "outputs": [],
   "source": [
    "def show_path(path, col, annot):\n",
    "    \n",
    "    states = path['states']\n",
    "    actions = path['actions']\n",
    "    states = np.reshape(states, (4, 4))\n",
    "    actions = np.reshape(actions, (4, 4))\n",
    "    sns.heatmap(U,  cmap=sns.color_palette(col, as_cmap=True), annot = annot)\n",
    "\n",
    "    for i in range(4):\n",
    "        for j in range(4):\n",
    "            if(states[i][j] != 0 and ( i != 3 or j != 3)):\n",
    "                if actions[i][j] == 0:\n",
    "                    plt.arrow( (j + 0.5), (i + 0.5), -.4, 0, head_width=0.1, head_length=0.1, fc='k', ec='k')\n",
    "                if actions[i][j] == 1:\n",
    "                    plt.arrow( (j + 0.5), (i + 0.5), 0, .4, head_width=0.1, head_length=0.1, fc='k', ec='k')\n",
    "                if actions[i][j] == 2:\n",
    "                    plt.arrow( (j + 0.5), (i + 0.5), .4, 0, head_width=0.1, head_length=0.1, fc='k', ec='k')\n",
    "                if actions[i][j] == 3:\n",
    "                    plt.arrow( (j + 0.5), (i + 0.5), 0, -.4, head_width=0.1, head_length=0.1, fc='k', ec='k')\n",
    "    if states[3][3] == 0:\n",
    "        plt.text(2, 2, 'You Died', fontsize=30, color='red',\n",
    "            horizontalalignment='center', verticalalignment='center', fontname='Felix Titling')\n",
    "    plt.show()"
   ]
  },
  {
   "cell_type": "code",
   "execution_count": 10,
   "metadata": {},
   "outputs": [
    {
     "data": {
      "image/png": "[encoded data removed]",
      "text/plain": [
       "<Figure size 640x480 with 2 Axes>"
      ]
     },
     "metadata": {},
     "output_type": "display_data"
    }
   ],
   "source": [
    "show_path(greedy_path, 'mako', True)"
   ]
  },
  {
   "cell_type": "code",
   "execution_count": 11,
   "metadata": {},
   "outputs": [
    {
     "data": {
      "image/png": "[encoded data removed]",
      "text/plain": [
       "<Figure size 640x480 with 2 Axes>"
      ]
     },
     "metadata": {},
     "output_type": "display_data"
    }
   ],
   "source": [
    "show_path(real_path, 'mako', False)"
   ]
  }
 ],
 "metadata": {
  "kernelspec": {
   "display_name": "Python 3",
   "language": "python",
   "name": "python3"
  },
  "language_info": {
   "codemirror_mode": {
    "name": "ipython",
    "version": 3
   },
   "file_extension": ".py",
   "mimetype": "text/x-python",
   "name": "python",
   "nbconvert_exporter": "python",
   "pygments_lexer": "ipython3",
   "version": "3.11.0"
  },
  "orig_nbformat": 4
 },
 "nbformat": 4,
 "nbformat_minor": 2
}
